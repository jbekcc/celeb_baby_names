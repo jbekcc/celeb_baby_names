{
 "cells": [
  {
   "cell_type": "code",
   "execution_count": 23,
   "metadata": {
    "collapsed": false
   },
   "outputs": [],
   "source": [
    "import pandas\n",
    "import csv\n",
    "names = pandas.read_csv('NationalNames.csv') #assumes header row exists\n",
    "names['pct_ch'] = names.groupby('Name')['Count'].pct_change() + 1\n",
    "names.to_csv('NamesOutput.csv')"
   ]
  },
  {
   "cell_type": "code",
   "execution_count": 27,
   "metadata": {
    "collapsed": false
   },
   "outputs": [
    {
     "name": "stdout",
     "output_type": "stream",
     "text": [
      "Yay\n"
     ]
    }
   ],
   "source": [
    "with open('NamesOutput.csv') as infile, open('EndOutput.csv', \"w\") as outfile:\n",
    "    r = csv.reader(infile)\n",
    "    w = csv.writer(outfile)\n",
    "    w.writerow(next(r))  # Writes the header unchanged\n",
    "    for row in r:\n",
    "        if row[6] == \"\":\n",
    "            row[6] = 0\n",
    "        w.writerow(row)\n",
    "\n",
    "\n",
    "print(\"Yay\")"
   ]
  },
  {
   "cell_type": "code",
   "execution_count": null,
   "metadata": {
    "collapsed": true
   },
   "outputs": [],
   "source": []
  }
 ],
 "metadata": {
  "kernelspec": {
   "display_name": "Python 3",
   "language": "python",
   "name": "python3"
  },
  "language_info": {
   "codemirror_mode": {
    "name": "ipython",
    "version": 3
   },
   "file_extension": ".py",
   "mimetype": "text/x-python",
   "name": "python",
   "nbconvert_exporter": "python",
   "pygments_lexer": "ipython3",
   "version": "3.5.1"
  }
 },
 "nbformat": 4,
 "nbformat_minor": 0
}
