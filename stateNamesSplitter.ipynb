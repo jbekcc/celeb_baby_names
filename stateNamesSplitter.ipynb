{
 "cells": [
  {
   "cell_type": "code",
   "execution_count": 1,
   "metadata": {
    "collapsed": true
   },
   "outputs": [],
   "source": [
    "import pandas as pd"
   ]
  },
  {
   "cell_type": "markdown",
   "metadata": {},
   "source": [
    "Sooooooo...the `StateNames.csv` is a bit too large for GitHub to handle, so I need to split it up in order for me to add that data to the repo.  Here we go..."
   ]
  },
  {
   "cell_type": "code",
   "execution_count": 2,
   "metadata": {
    "collapsed": true
   },
   "outputs": [],
   "source": [
    "#df = pd.read_csv('data/StateNames.csv', index_col='Id')\n",
    "df_1 = pd.read_csv('data/stateNames1.csv', index_col=\"Id\")\n",
    "df_2 = pd.read_csv('data/stateNames2.csv', index_col=\"Id\")\n"
   ]
  },
  {
   "cell_type": "code",
   "execution_count": 14,
   "metadata": {
    "collapsed": false
   },
   "outputs": [
    {
     "name": "stdout",
     "output_type": "stream",
     "text": [
      "              Name  Year Gender State  Count\n",
      "Id                                          \n",
      "1             Mary  1910      F    AK     14\n",
      "2            Annie  1910      F    AK     12\n",
      "3             Anna  1910      F    AK     10\n",
      "4         Margaret  1910      F    AK      8\n",
      "5            Helen  1910      F    AK      7\n",
      "6            Elsie  1910      F    AK      6\n",
      "7             Lucy  1910      F    AK      6\n",
      "8          Dorothy  1910      F    AK      5\n",
      "9             Mary  1911      F    AK     12\n",
      "10        Margaret  1911      F    AK      7\n",
      "11            Ruth  1911      F    AK      7\n",
      "12           Annie  1911      F    AK      6\n",
      "13       Elizabeth  1911      F    AK      6\n",
      "14           Helen  1911      F    AK      6\n",
      "15            Mary  1912      F    AK      9\n",
      "16           Elsie  1912      F    AK      8\n",
      "17           Agnes  1912      F    AK      7\n",
      "18            Anna  1912      F    AK      7\n",
      "19           Helen  1912      F    AK      7\n",
      "20          Louise  1912      F    AK      7\n",
      "21            Jean  1912      F    AK      6\n",
      "22            Ruth  1912      F    AK      6\n",
      "23           Alice  1912      F    AK      5\n",
      "24          Esther  1912      F    AK      5\n",
      "25           Ethel  1912      F    AK      5\n",
      "26        Margaret  1912      F    AK      5\n",
      "27           Marie  1912      F    AK      5\n",
      "28            Mary  1913      F    AK     21\n",
      "29       Elizabeth  1913      F    AK      9\n",
      "30        Margaret  1913      F    AK      8\n",
      "...            ...   ...    ...   ...    ...\n",
      "5647397     Brooks  2014      M    WY      5\n",
      "5647398     Calvin  2014      M    WY      5\n",
      "5647399    Cameron  2014      M    WY      5\n",
      "5647400     Dalton  2014      M    WY      5\n",
      "5647401     Dawson  2014      M    WY      5\n",
      "5647402     Edward  2014      M    WY      5\n",
      "5647403      Elias  2014      M    WY      5\n",
      "5647404       Gage  2014      M    WY      5\n",
      "5647405     Hayden  2014      M    WY      5\n",
      "5647406     Jasper  2014      M    WY      5\n",
      "5647407       Jose  2014      M    WY      5\n",
      "5647408     Kaiden  2014      M    WY      5\n",
      "5647409      Kaleb  2014      M    WY      5\n",
      "5647410      Kasen  2014      M    WY      5\n",
      "5647411      Kyson  2014      M    WY      5\n",
      "5647412      Lukas  2014      M    WY      5\n",
      "5647413      Myles  2014      M    WY      5\n",
      "5647414  Nathaniel  2014      M    WY      5\n",
      "5647415      Nolan  2014      M    WY      5\n",
      "5647416     Oakley  2014      M    WY      5\n",
      "5647417       Odin  2014      M    WY      5\n",
      "5647418     Paxton  2014      M    WY      5\n",
      "5647419    Raymond  2014      M    WY      5\n",
      "5647420    Richard  2014      M    WY      5\n",
      "5647421      Rowan  2014      M    WY      5\n",
      "5647422       Seth  2014      M    WY      5\n",
      "5647423    Spencer  2014      M    WY      5\n",
      "5647424       Tyce  2014      M    WY      5\n",
      "5647425     Victor  2014      M    WY      5\n",
      "5647426     Waylon  2014      M    WY      5\n",
      "\n",
      "[5647426 rows x 5 columns]\n"
     ]
    }
   ],
   "source": [
    "#df_1 = df[0:int(len(df)/2)]\n",
    "#df_2 = df[int((len(df)/2)):]\n",
    "frame = pd.DataFrame()\n",
    "list_ = []\n",
    "\n",
    "list_.append(df_1)\n",
    "list_.append(df_2)\n",
    "frame = pd.concat(list_)\n",
    "\n",
    "print(frame)"
   ]
  },
  {
   "cell_type": "code",
   "execution_count": 15,
   "metadata": {
    "collapsed": false
   },
   "outputs": [],
   "source": [
    "#df_1.to_csv('data/stateNames1.csv')\n",
    "#df_2.to_csv('data/stateNames2.csv')\n",
    "frame.to_csv('data/StateNames.csv')"
   ]
  },
  {
   "cell_type": "code",
   "execution_count": null,
   "metadata": {
    "collapsed": true
   },
   "outputs": [],
   "source": []
  }
 ],
 "metadata": {
  "kernelspec": {
   "display_name": "Python 3",
   "language": "python",
   "name": "python3"
  },
  "language_info": {
   "codemirror_mode": {
    "name": "ipython",
    "version": 3
   },
   "file_extension": ".py",
   "mimetype": "text/x-python",
   "name": "python",
   "nbconvert_exporter": "python",
   "pygments_lexer": "ipython3",
   "version": "3.5.1"
  }
 },
 "nbformat": 4,
 "nbformat_minor": 0
}
